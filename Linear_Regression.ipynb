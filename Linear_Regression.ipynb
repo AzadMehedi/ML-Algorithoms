{
  "nbformat": 4,
  "nbformat_minor": 0,
  "metadata": {
    "colab": {
      "provenance": [],
      "authorship_tag": "ABX9TyMOVfPGBKmVw5YoIG60fCyr",
      "include_colab_link": true
    },
    "kernelspec": {
      "name": "python3",
      "display_name": "Python 3"
    },
    "language_info": {
      "name": "python"
    }
  },
  "cells": [
    {
      "cell_type": "markdown",
      "metadata": {
        "id": "view-in-github",
        "colab_type": "text"
      },
      "source": [
        "<a href=\"https://colab.research.google.com/github/AzadMehedi/ML-Algorithoms/blob/main/Linear_Regression.ipynb\" target=\"_parent\"><img src=\"https://colab.research.google.com/assets/colab-badge.svg\" alt=\"Open In Colab\"/></a>"
      ]
    },
    {
      "cell_type": "markdown",
      "source": [
        "# import library"
      ],
      "metadata": {
        "id": "Ee4gv3gevb-j"
      }
    },
    {
      "cell_type": "code",
      "execution_count": 34,
      "metadata": {
        "id": "9AxUqpUavWuf"
      },
      "outputs": [],
      "source": [
        "import pandas as pd\n",
        "import numpy as np\n",
        "import matplotlib.pyplot as plt\n",
        "import seaborn as sns\n",
        "from sklearn.linear_model import LinearRegression\n",
        "from sklearn.model_selection import train_test_split\n",
        "from sklearn import metrics\n",
        "from sklearn.metrics import classification_report\n",
        "from sklearn.metrics import r2_score\n",
        "import statsmodels.formula.api as smf\n",
        "\n",
        "import warnings\n",
        "warnings.filterwarnings('ignore')"
      ]
    },
    {
      "cell_type": "markdown",
      "source": [
        "#  Load dataset"
      ],
      "metadata": {
        "id": "XJR5F7DNxOu0"
      }
    },
    {
      "cell_type": "code",
      "source": [
        "url = 'https://raw.githubusercontent.com/FazlyRabbiBD/Data-Science-Book/master/data-fuel-consumption.csv'\n",
        "df = pd.read_csv(url)\n",
        "df.head()"
      ],
      "metadata": {
        "colab": {
          "base_uri": "https://localhost:8080/",
          "height": 322
        },
        "id": "yv0LRw0rxMJP",
        "outputId": "f29f7aa6-2ab3-4dde-b06d-2604f141f87b"
      },
      "execution_count": 4,
      "outputs": [
        {
          "output_type": "execute_result",
          "data": {
            "text/plain": [
              "   MODELYEAR   MAKE       MODEL VEHICLECLASS  ENGINESIZE  CYLINDERS  \\\n",
              "0       2014  ACURA         ILX      COMPACT         2.0          4   \n",
              "1       2014  ACURA         ILX      COMPACT         2.4          4   \n",
              "2       2014  ACURA  ILX HYBRID      COMPACT         1.5          4   \n",
              "3       2014  ACURA     MDX 4WD  SUV - SMALL         3.5          6   \n",
              "4       2014  ACURA     RDX AWD  SUV - SMALL         3.5          6   \n",
              "\n",
              "  TRANSMISSION FUELTYPE  FUELCONSUMPTION_CITY  FUELCONSUMPTION_HWY  \\\n",
              "0          AS5        Z                   9.9                  6.7   \n",
              "1           M6        Z                  11.2                  7.7   \n",
              "2          AV7        Z                   6.0                  5.8   \n",
              "3          AS6        Z                  12.7                  9.1   \n",
              "4          AS6        Z                  12.1                  8.7   \n",
              "\n",
              "   FUELCONSUMPTION_COMB  FUELCONSUMPTION_COMB_MPG  CO2EMISSIONS  \n",
              "0                   8.5                        33           196  \n",
              "1                   9.6                        29           221  \n",
              "2                   5.9                        48           136  \n",
              "3                  11.1                        25           255  \n",
              "4                  10.6                        27           244  "
            ],
            "text/html": [
              "\n",
              "  <div id=\"df-0132b823-940e-44df-a99d-6b72b2458f44\">\n",
              "    <div class=\"colab-df-container\">\n",
              "      <div>\n",
              "<style scoped>\n",
              "    .dataframe tbody tr th:only-of-type {\n",
              "        vertical-align: middle;\n",
              "    }\n",
              "\n",
              "    .dataframe tbody tr th {\n",
              "        vertical-align: top;\n",
              "    }\n",
              "\n",
              "    .dataframe thead th {\n",
              "        text-align: right;\n",
              "    }\n",
              "</style>\n",
              "<table border=\"1\" class=\"dataframe\">\n",
              "  <thead>\n",
              "    <tr style=\"text-align: right;\">\n",
              "      <th></th>\n",
              "      <th>MODELYEAR</th>\n",
              "      <th>MAKE</th>\n",
              "      <th>MODEL</th>\n",
              "      <th>VEHICLECLASS</th>\n",
              "      <th>ENGINESIZE</th>\n",
              "      <th>CYLINDERS</th>\n",
              "      <th>TRANSMISSION</th>\n",
              "      <th>FUELTYPE</th>\n",
              "      <th>FUELCONSUMPTION_CITY</th>\n",
              "      <th>FUELCONSUMPTION_HWY</th>\n",
              "      <th>FUELCONSUMPTION_COMB</th>\n",
              "      <th>FUELCONSUMPTION_COMB_MPG</th>\n",
              "      <th>CO2EMISSIONS</th>\n",
              "    </tr>\n",
              "  </thead>\n",
              "  <tbody>\n",
              "    <tr>\n",
              "      <th>0</th>\n",
              "      <td>2014</td>\n",
              "      <td>ACURA</td>\n",
              "      <td>ILX</td>\n",
              "      <td>COMPACT</td>\n",
              "      <td>2.0</td>\n",
              "      <td>4</td>\n",
              "      <td>AS5</td>\n",
              "      <td>Z</td>\n",
              "      <td>9.9</td>\n",
              "      <td>6.7</td>\n",
              "      <td>8.5</td>\n",
              "      <td>33</td>\n",
              "      <td>196</td>\n",
              "    </tr>\n",
              "    <tr>\n",
              "      <th>1</th>\n",
              "      <td>2014</td>\n",
              "      <td>ACURA</td>\n",
              "      <td>ILX</td>\n",
              "      <td>COMPACT</td>\n",
              "      <td>2.4</td>\n",
              "      <td>4</td>\n",
              "      <td>M6</td>\n",
              "      <td>Z</td>\n",
              "      <td>11.2</td>\n",
              "      <td>7.7</td>\n",
              "      <td>9.6</td>\n",
              "      <td>29</td>\n",
              "      <td>221</td>\n",
              "    </tr>\n",
              "    <tr>\n",
              "      <th>2</th>\n",
              "      <td>2014</td>\n",
              "      <td>ACURA</td>\n",
              "      <td>ILX HYBRID</td>\n",
              "      <td>COMPACT</td>\n",
              "      <td>1.5</td>\n",
              "      <td>4</td>\n",
              "      <td>AV7</td>\n",
              "      <td>Z</td>\n",
              "      <td>6.0</td>\n",
              "      <td>5.8</td>\n",
              "      <td>5.9</td>\n",
              "      <td>48</td>\n",
              "      <td>136</td>\n",
              "    </tr>\n",
              "    <tr>\n",
              "      <th>3</th>\n",
              "      <td>2014</td>\n",
              "      <td>ACURA</td>\n",
              "      <td>MDX 4WD</td>\n",
              "      <td>SUV - SMALL</td>\n",
              "      <td>3.5</td>\n",
              "      <td>6</td>\n",
              "      <td>AS6</td>\n",
              "      <td>Z</td>\n",
              "      <td>12.7</td>\n",
              "      <td>9.1</td>\n",
              "      <td>11.1</td>\n",
              "      <td>25</td>\n",
              "      <td>255</td>\n",
              "    </tr>\n",
              "    <tr>\n",
              "      <th>4</th>\n",
              "      <td>2014</td>\n",
              "      <td>ACURA</td>\n",
              "      <td>RDX AWD</td>\n",
              "      <td>SUV - SMALL</td>\n",
              "      <td>3.5</td>\n",
              "      <td>6</td>\n",
              "      <td>AS6</td>\n",
              "      <td>Z</td>\n",
              "      <td>12.1</td>\n",
              "      <td>8.7</td>\n",
              "      <td>10.6</td>\n",
              "      <td>27</td>\n",
              "      <td>244</td>\n",
              "    </tr>\n",
              "  </tbody>\n",
              "</table>\n",
              "</div>\n",
              "      <button class=\"colab-df-convert\" onclick=\"convertToInteractive('df-0132b823-940e-44df-a99d-6b72b2458f44')\"\n",
              "              title=\"Convert this dataframe to an interactive table.\"\n",
              "              style=\"display:none;\">\n",
              "        \n",
              "  <svg xmlns=\"http://www.w3.org/2000/svg\" height=\"24px\"viewBox=\"0 0 24 24\"\n",
              "       width=\"24px\">\n",
              "    <path d=\"M0 0h24v24H0V0z\" fill=\"none\"/>\n",
              "    <path d=\"M18.56 5.44l.94 2.06.94-2.06 2.06-.94-2.06-.94-.94-2.06-.94 2.06-2.06.94zm-11 1L8.5 8.5l.94-2.06 2.06-.94-2.06-.94L8.5 2.5l-.94 2.06-2.06.94zm10 10l.94 2.06.94-2.06 2.06-.94-2.06-.94-.94-2.06-.94 2.06-2.06.94z\"/><path d=\"M17.41 7.96l-1.37-1.37c-.4-.4-.92-.59-1.43-.59-.52 0-1.04.2-1.43.59L10.3 9.45l-7.72 7.72c-.78.78-.78 2.05 0 2.83L4 21.41c.39.39.9.59 1.41.59.51 0 1.02-.2 1.41-.59l7.78-7.78 2.81-2.81c.8-.78.8-2.07 0-2.86zM5.41 20L4 18.59l7.72-7.72 1.47 1.35L5.41 20z\"/>\n",
              "  </svg>\n",
              "      </button>\n",
              "      \n",
              "  <style>\n",
              "    .colab-df-container {\n",
              "      display:flex;\n",
              "      flex-wrap:wrap;\n",
              "      gap: 12px;\n",
              "    }\n",
              "\n",
              "    .colab-df-convert {\n",
              "      background-color: #E8F0FE;\n",
              "      border: none;\n",
              "      border-radius: 50%;\n",
              "      cursor: pointer;\n",
              "      display: none;\n",
              "      fill: #1967D2;\n",
              "      height: 32px;\n",
              "      padding: 0 0 0 0;\n",
              "      width: 32px;\n",
              "    }\n",
              "\n",
              "    .colab-df-convert:hover {\n",
              "      background-color: #E2EBFA;\n",
              "      box-shadow: 0px 1px 2px rgba(60, 64, 67, 0.3), 0px 1px 3px 1px rgba(60, 64, 67, 0.15);\n",
              "      fill: #174EA6;\n",
              "    }\n",
              "\n",
              "    [theme=dark] .colab-df-convert {\n",
              "      background-color: #3B4455;\n",
              "      fill: #D2E3FC;\n",
              "    }\n",
              "\n",
              "    [theme=dark] .colab-df-convert:hover {\n",
              "      background-color: #434B5C;\n",
              "      box-shadow: 0px 1px 3px 1px rgba(0, 0, 0, 0.15);\n",
              "      filter: drop-shadow(0px 1px 2px rgba(0, 0, 0, 0.3));\n",
              "      fill: #FFFFFF;\n",
              "    }\n",
              "  </style>\n",
              "\n",
              "      <script>\n",
              "        const buttonEl =\n",
              "          document.querySelector('#df-0132b823-940e-44df-a99d-6b72b2458f44 button.colab-df-convert');\n",
              "        buttonEl.style.display =\n",
              "          google.colab.kernel.accessAllowed ? 'block' : 'none';\n",
              "\n",
              "        async function convertToInteractive(key) {\n",
              "          const element = document.querySelector('#df-0132b823-940e-44df-a99d-6b72b2458f44');\n",
              "          const dataTable =\n",
              "            await google.colab.kernel.invokeFunction('convertToInteractive',\n",
              "                                                     [key], {});\n",
              "          if (!dataTable) return;\n",
              "\n",
              "          const docLinkHtml = 'Like what you see? Visit the ' +\n",
              "            '<a target=\"_blank\" href=https://colab.research.google.com/notebooks/data_table.ipynb>data table notebook</a>'\n",
              "            + ' to learn more about interactive tables.';\n",
              "          element.innerHTML = '';\n",
              "          dataTable['output_type'] = 'display_data';\n",
              "          await google.colab.output.renderOutput(dataTable, element);\n",
              "          const docLink = document.createElement('div');\n",
              "          docLink.innerHTML = docLinkHtml;\n",
              "          element.appendChild(docLink);\n",
              "        }\n",
              "      </script>\n",
              "    </div>\n",
              "  </div>\n",
              "  "
            ]
          },
          "metadata": {},
          "execution_count": 4
        }
      ]
    },
    {
      "cell_type": "code",
      "source": [
        "# categorical variables\n",
        "# MODELYEAR, MAKE, MODEL,VEHICLECLASS,TRANSMISSION, FUELTYPE\n",
        "# have to do Feature Engineering/Data Transformation to use these features if we want to use in Linear Regression Model. "
      ],
      "metadata": {
        "id": "sk5S6g6txg1X"
      },
      "execution_count": 5,
      "outputs": []
    },
    {
      "cell_type": "code",
      "source": [
        "# run Stats model\n",
        "# OLS(Ordinary Least Squared) Regression Results\n",
        "\n",
        "statMDL=smf.ols('CO2EMISSIONS~ENGINESIZE+CYLINDERS+FUELCONSUMPTION_CITY+FUELCONSUMPTION_HWY+FUELCONSUMPTION_COMB+FUELCONSUMPTION_COMB_MPG', data= df).fit()\n",
        "print(statMDL.summary())"
      ],
      "metadata": {
        "colab": {
          "base_uri": "https://localhost:8080/"
        },
        "id": "m39L0V0Ox_N5",
        "outputId": "c9308767-f9fa-4d4a-bb95-34a1d25bc8a4"
      },
      "execution_count": 10,
      "outputs": [
        {
          "output_type": "stream",
          "name": "stdout",
          "text": [
            "                            OLS Regression Results                            \n",
            "==============================================================================\n",
            "Dep. Variable:           CO2EMISSIONS   R-squared:                       0.889\n",
            "Model:                            OLS   Adj. R-squared:                  0.889\n",
            "Method:                 Least Squares   F-statistic:                     1419.\n",
            "Date:                Thu, 09 Mar 2023   Prob (F-statistic):               0.00\n",
            "Time:                        14:36:17   Log-Likelihood:                -4766.4\n",
            "No. Observations:                1067   AIC:                             9547.\n",
            "Df Residuals:                    1060   BIC:                             9582.\n",
            "Df Model:                           6                                         \n",
            "Covariance Type:            nonrobust                                         \n",
            "============================================================================================\n",
            "                               coef    std err          t      P>|t|      [0.025      0.975]\n",
            "--------------------------------------------------------------------------------------------\n",
            "Intercept                  253.5312     12.451     20.362      0.000     229.099     277.964\n",
            "ENGINESIZE                   8.5777      1.418      6.049      0.000       5.795      11.360\n",
            "CYLINDERS                    7.6987      1.047      7.356      0.000       5.645       9.752\n",
            "FUELCONSUMPTION_CITY       -10.5926     12.440     -0.851      0.395     -35.003      13.818\n",
            "FUELCONSUMPTION_HWY         -3.4892     10.255     -0.340      0.734     -23.612      16.633\n",
            "FUELCONSUMPTION_COMB        17.7529     22.618      0.785      0.433     -26.628      62.134\n",
            "FUELCONSUMPTION_COMB_MPG    -3.8692      0.250    -15.505      0.000      -4.359      -3.380\n",
            "==============================================================================\n",
            "Omnibus:                       76.623   Durbin-Watson:                   1.654\n",
            "Prob(Omnibus):                  0.000   Jarque-Bera (JB):              347.468\n",
            "Skew:                          -0.100   Prob(JB):                     3.53e-76\n",
            "Kurtosis:                       5.788   Cond. No.                     1.46e+03\n",
            "==============================================================================\n",
            "\n",
            "Notes:\n",
            "[1] Standard Errors assume that the covariance matrix of the errors is correctly specified.\n",
            "[2] The condition number is large, 1.46e+03. This might indicate that there are\n",
            "strong multicollinearity or other numerical problems.\n"
          ]
        }
      ]
    },
    {
      "cell_type": "markdown",
      "source": [
        "### - R-squared- OLS Results এ R-squared মান 0.889 দেয়া আছে এর অর্থ আমাদের রিগ্রেশন লাইন প্রায় 88.9% ফিচার ভ্যারিয়বলকে টাচ করতে পারে অথবা 88.9% ফিট হয়। এটাকে অন্য ভাবেও বলা যায় টার্গেট ভ্যারিয়েবলের মানকে এই মডেলের মাধ্যমে 88.9 % ব্যখ্যা করা যায়। \n",
        "### - Adj. R-squared-  আমরা ইনপুট ভ্যারিয়েবলের সংখ্যা যত বাড়াতে থাকবো R-squared এর মান ততোই বাড়তে থাকবে। তবে সবসময় R-squared এর মান বাড়লেই যে মডেল আরও ভালো হতে থাকবে এমনটি নয়। আমরা যখন দেখবো নতুন কোন ফিচার ভ্যারিয়েবল যোগ করলে R-squared বাড়ে কিন্তু Adj. R-squared এর মান আগের মতই থেকে যায় অথবা Adj. R-squared এর মান R-squared চেয়ে ছোট হয় তখন বুঝতে হবে নতুন ভ্যারিয়েবল মডেলের পারফরম্যান্স প্রকৃতপক্ষে বাড়াবে না। \n",
        "### - Prob (F-statistic)- Prob (F-statistic) এর মান যদি 0.05 এর থেকে বেশী হয় তবে আমাদের মডেলটি রিগ্রেশনের জন্য মটেই ভালো নয়। Prob (F-statistic) মান সবসময় 0.05 এর থেকে কম থাকা বাঞ্ছনীয়। \n",
        "### - P>|t| - যেসকল কোএফিসিয়েন্টের P>|t| এর মান 0.05 এর থেকে বেশী , সেসকল কোএফিসিয়েন্ট সমূহ যেসকল ভ্যারিয়েবলের , ঐ সকল ভ্যারিয়েবল মডেলে তেমন কোন গুরুত্ব বহন করবে না।  অর্থাৎ এদেরকে বাদ দেয়া যেতে পারে।  আমাদের মডেলে FUELCONSUMPTION_CITY, FUELCONSUMPTION_HWY এবং FUELCONSUMPTION_COMB এর P>|t| এর মান 0.05 এর থেকে বড়, সুতরাং এরা আমাদের মডেলের জন্য গুরুত্বপূর্ণ নয়। \n",
        "### - Df Model- মডেলে যে কয়টি ইন্ডিপেন্ডেন্ট / ফিচার ভ্যারিয়েবল ব্যবহার করা হয়েছে। \n",
        "### - Dep. Variable-  মডেলের ডিপেন্ডেন্ট / টার্গেট ভ্যারিয়েবল "
      ],
      "metadata": {
        "id": "R52uRockz5Ac"
      }
    },
    {
      "cell_type": "code",
      "source": [
        "# আমরা OLS Regression Results অনুযায়ী গুরুত্বপূর্ণ ভ্যারিয়েবল সমূহের সমন্বয়ে ফিচার x এবং টার্গেট  y সেট করে নেবো\n",
        "X = df[['ENGINESIZE','CYLINDERS','FUELCONSUMPTION_COMB_MPG']]\n",
        "y = df['CO2EMISSIONS']"
      ],
      "metadata": {
        "id": "jmdB1jArzLvg"
      },
      "execution_count": 13,
      "outputs": []
    },
    {
      "cell_type": "code",
      "source": [
        "# এবার টেস্ট এর জন্য ২৫% ডেটা রেখে বাকি ডেটা দিয়ে মডেল ট্রেইন করবো। আমরা এই মডেলের নাম দিয়েছি lr\n",
        "X_train, X_test, y_train, y_test = train_test_split(X, y, test_size=0.25, random_state=5) \n",
        "lr = LinearRegression()\n",
        "lr.fit(X_train, y_train)"
      ],
      "metadata": {
        "colab": {
          "base_uri": "https://localhost:8080/",
          "height": 74
        },
        "id": "efr0K9X-1m4j",
        "outputId": "32bb7b1a-3736-4762-e05e-f5fe214452b7"
      },
      "execution_count": 15,
      "outputs": [
        {
          "output_type": "execute_result",
          "data": {
            "text/plain": [
              "LinearRegression()"
            ],
            "text/html": [
              "<style>#sk-container-id-1 {color: black;background-color: white;}#sk-container-id-1 pre{padding: 0;}#sk-container-id-1 div.sk-toggleable {background-color: white;}#sk-container-id-1 label.sk-toggleable__label {cursor: pointer;display: block;width: 100%;margin-bottom: 0;padding: 0.3em;box-sizing: border-box;text-align: center;}#sk-container-id-1 label.sk-toggleable__label-arrow:before {content: \"▸\";float: left;margin-right: 0.25em;color: #696969;}#sk-container-id-1 label.sk-toggleable__label-arrow:hover:before {color: black;}#sk-container-id-1 div.sk-estimator:hover label.sk-toggleable__label-arrow:before {color: black;}#sk-container-id-1 div.sk-toggleable__content {max-height: 0;max-width: 0;overflow: hidden;text-align: left;background-color: #f0f8ff;}#sk-container-id-1 div.sk-toggleable__content pre {margin: 0.2em;color: black;border-radius: 0.25em;background-color: #f0f8ff;}#sk-container-id-1 input.sk-toggleable__control:checked~div.sk-toggleable__content {max-height: 200px;max-width: 100%;overflow: auto;}#sk-container-id-1 input.sk-toggleable__control:checked~label.sk-toggleable__label-arrow:before {content: \"▾\";}#sk-container-id-1 div.sk-estimator input.sk-toggleable__control:checked~label.sk-toggleable__label {background-color: #d4ebff;}#sk-container-id-1 div.sk-label input.sk-toggleable__control:checked~label.sk-toggleable__label {background-color: #d4ebff;}#sk-container-id-1 input.sk-hidden--visually {border: 0;clip: rect(1px 1px 1px 1px);clip: rect(1px, 1px, 1px, 1px);height: 1px;margin: -1px;overflow: hidden;padding: 0;position: absolute;width: 1px;}#sk-container-id-1 div.sk-estimator {font-family: monospace;background-color: #f0f8ff;border: 1px dotted black;border-radius: 0.25em;box-sizing: border-box;margin-bottom: 0.5em;}#sk-container-id-1 div.sk-estimator:hover {background-color: #d4ebff;}#sk-container-id-1 div.sk-parallel-item::after {content: \"\";width: 100%;border-bottom: 1px solid gray;flex-grow: 1;}#sk-container-id-1 div.sk-label:hover label.sk-toggleable__label {background-color: #d4ebff;}#sk-container-id-1 div.sk-serial::before {content: \"\";position: absolute;border-left: 1px solid gray;box-sizing: border-box;top: 0;bottom: 0;left: 50%;z-index: 0;}#sk-container-id-1 div.sk-serial {display: flex;flex-direction: column;align-items: center;background-color: white;padding-right: 0.2em;padding-left: 0.2em;position: relative;}#sk-container-id-1 div.sk-item {position: relative;z-index: 1;}#sk-container-id-1 div.sk-parallel {display: flex;align-items: stretch;justify-content: center;background-color: white;position: relative;}#sk-container-id-1 div.sk-item::before, #sk-container-id-1 div.sk-parallel-item::before {content: \"\";position: absolute;border-left: 1px solid gray;box-sizing: border-box;top: 0;bottom: 0;left: 50%;z-index: -1;}#sk-container-id-1 div.sk-parallel-item {display: flex;flex-direction: column;z-index: 1;position: relative;background-color: white;}#sk-container-id-1 div.sk-parallel-item:first-child::after {align-self: flex-end;width: 50%;}#sk-container-id-1 div.sk-parallel-item:last-child::after {align-self: flex-start;width: 50%;}#sk-container-id-1 div.sk-parallel-item:only-child::after {width: 0;}#sk-container-id-1 div.sk-dashed-wrapped {border: 1px dashed gray;margin: 0 0.4em 0.5em 0.4em;box-sizing: border-box;padding-bottom: 0.4em;background-color: white;}#sk-container-id-1 div.sk-label label {font-family: monospace;font-weight: bold;display: inline-block;line-height: 1.2em;}#sk-container-id-1 div.sk-label-container {text-align: center;}#sk-container-id-1 div.sk-container {/* jupyter's `normalize.less` sets `[hidden] { display: none; }` but bootstrap.min.css set `[hidden] { display: none !important; }` so we also need the `!important` here to be able to override the default hidden behavior on the sphinx rendered scikit-learn.org. See: https://github.com/scikit-learn/scikit-learn/issues/21755 */display: inline-block !important;position: relative;}#sk-container-id-1 div.sk-text-repr-fallback {display: none;}</style><div id=\"sk-container-id-1\" class=\"sk-top-container\"><div class=\"sk-text-repr-fallback\"><pre>LinearRegression()</pre><b>In a Jupyter environment, please rerun this cell to show the HTML representation or trust the notebook. <br />On GitHub, the HTML representation is unable to render, please try loading this page with nbviewer.org.</b></div><div class=\"sk-container\" hidden><div class=\"sk-item\"><div class=\"sk-estimator sk-toggleable\"><input class=\"sk-toggleable__control sk-hidden--visually\" id=\"sk-estimator-id-1\" type=\"checkbox\" checked><label for=\"sk-estimator-id-1\" class=\"sk-toggleable__label sk-toggleable__label-arrow\">LinearRegression</label><div class=\"sk-toggleable__content\"><pre>LinearRegression()</pre></div></div></div></div></div>"
            ]
          },
          "metadata": {},
          "execution_count": 15
        }
      ]
    },
    {
      "cell_type": "code",
      "source": [
        "# Now model is ready for Prediction. \n",
        "# আমাদের মডেল এখন প্রিডিকশন করার জন্য প্রস্তুত। আমরা এখন টেস্ট ডেটাসেটের ফিচার অংশ ইনপুট হিসাবে দিয়ে মডেলকে প্রিডিকশন করতে দেব\n",
        "predictions = lr.predict(X_test)\n"
      ],
      "metadata": {
        "id": "gk4Yyf782dlb"
      },
      "execution_count": 17,
      "outputs": []
    },
    {
      "cell_type": "code",
      "source": [
        "# Check Accuracy\n",
        "print('Coefficients: ', lr.coef_)\n",
        "print('Intercept: ', lr.intercept_)\n",
        "print('MAE: ', metrics.mean_absolute_error(y_test, predictions))\n",
        "print('MSE: ', metrics.mean_squared_error(y_test, predictions))\n",
        "print('RMSE ', np.sqrt(metrics.mean_squared_error(y_test, predictions)))\n",
        "accuracy = lr.score(X_test, y_test)\n",
        "print('AccuracyII: ', accuracy*100, '%')\n",
        "print('R2: ', r2_score(y_test, predictions))"
      ],
      "metadata": {
        "colab": {
          "base_uri": "https://localhost:8080/"
        },
        "id": "2J7EZmby2pbt",
        "outputId": "fd56f4cd-56e0-4421-d73f-098628b30aea"
      },
      "execution_count": 21,
      "outputs": [
        {
          "output_type": "stream",
          "name": "stdout",
          "text": [
            "Coefficients:  [11.11172826  6.34337788 -4.73059216]\n",
            "Intercept:  307.1168046918609\n",
            "MAE:  14.528021284008478\n",
            "MSE:  487.3839241006477\n",
            "RMSE  22.0767734078295\n",
            "AccuracyII:  88.53480655959554 %\n",
            "R2:  0.8853480655959554\n"
          ]
        }
      ]
    },
    {
      "cell_type": "markdown",
      "source": [
        "### the model Accuracy is 88.53%"
      ],
      "metadata": {
        "id": "WWyHTIAV6naW"
      }
    },
    {
      "cell_type": "code",
      "source": [
        "# training set accuracy\n",
        "print('Train set accuracy: ', r2_score(y_train, lr.predict(X_train)))\n",
        "print('Test set accuracy: ', r2_score(y_test, predictions))\n"
      ],
      "metadata": {
        "colab": {
          "base_uri": "https://localhost:8080/"
        },
        "id": "RK4czxgL6wOC",
        "outputId": "d3488607-c992-4897-cba3-dcfd34d0fd73"
      },
      "execution_count": 24,
      "outputs": [
        {
          "output_type": "stream",
          "name": "stdout",
          "text": [
            "Train set accuracy:  0.8827636444239391\n",
            "Test set accuracy:  0.8853480655959554\n"
          ]
        }
      ]
    },
    {
      "cell_type": "code",
      "source": [
        "# Showing Prediction in test data using regression plot\n",
        "sns.regplot(x=y_test, y=predictions) "
      ],
      "metadata": {
        "colab": {
          "base_uri": "https://localhost:8080/",
          "height": 296
        },
        "id": "_edVorvU6sFg",
        "outputId": "3b887838-a8ea-4efa-c65b-4e3e86a76b66"
      },
      "execution_count": 25,
      "outputs": [
        {
          "output_type": "execute_result",
          "data": {
            "text/plain": [
              "<AxesSubplot:xlabel='CO2EMISSIONS'>"
            ]
          },
          "metadata": {},
          "execution_count": 25
        },
        {
          "output_type": "display_data",
          "data": {
            "text/plain": [
              "<Figure size 432x288 with 1 Axes>"
            ],
            "image/png": "[encoded data removed]"
          },
          "metadata": {
            "needs_background": "light"
          }
        }
      ]
    },
    {
      "cell_type": "code",
      "source": [
        "# comparing Original vs prediction value visualizing\n",
        "# Actual vsPreticted plot\n",
        "df2 = pd.DataFrame({'Actual':y_test, 'Predicted':predictions})\n",
        "df2.plot(kind='bar', figsize=(60,10))\n",
        "# plt.grid(which='major', linestyle='-', linewidth='0.5', color='green')\n",
        "# plt.grid(which='major', linestyle=':', linewidth='0.5', color='black')\n",
        "plt.grid()\n",
        "plt.show()"
      ],
      "metadata": {
        "colab": {
          "base_uri": "https://localhost:8080/",
          "height": 210
        },
        "id": "fWdRa7lA99e8",
        "outputId": "cf853c38-2f65-4200-a792-2178238a8a03"
      },
      "execution_count": 30,
      "outputs": [
        {
          "output_type": "display_data",
          "data": {
            "text/plain": [
              "<Figure size 4320x720 with 1 Axes>"
            ],
            "image/png": "[encoded data removed]"
          },
          "metadata": {
            "needs_background": "light"
          }
        }
      ]
    },
    {
      "cell_type": "code",
      "source": [
        "# এবার প্রিডিকশনের পালা, মনেকরি একটি গাড়ির  ENGINESIZE = 4, CYLINDERS= 4 এবং FUELCONSUMPTION_COMB_MPG=6 হলে CO2EMISSIONS কত হবে?\n",
        "# let's predict. let's assume a cars ENGINESIZE = 4, CYLINDERS= 4 এবং FUELCONSUMPTION_COMB_MPG=6. then what will be the value of CO2EMISSIONS?\n",
        "\n",
        "new_observation = [[4, 4, 6]]\n",
        "print('The predicted value is: ', lr.predict(new_observation))"
      ],
      "metadata": {
        "colab": {
          "base_uri": "https://localhost:8080/"
        },
        "id": "1Dd3I7MU_H29",
        "outputId": "c17b5507-69af-4dcb-d3e8-9fffb1a0541a"
      },
      "execution_count": 35,
      "outputs": [
        {
          "output_type": "stream",
          "name": "stdout",
          "text": [
            "The predicted value is:  [348.55367627]\n"
          ]
        }
      ]
    },
    {
      "cell_type": "markdown",
      "source": [
        "# The predicted value is:  [348.55367627]"
      ],
      "metadata": {
        "id": "d1x5Zso0A5v3"
      }
    },
    {
      "cell_type": "code",
      "source": [],
      "metadata": {
        "id": "XGpyklsXAcla"
      },
      "execution_count": null,
      "outputs": []
    }
  ]
}